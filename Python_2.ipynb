{
  "nbformat": 4,
  "nbformat_minor": 0,
  "metadata": {
    "colab": {
      "provenance": []
    },
    "kernelspec": {
      "name": "python3",
      "display_name": "Python 3"
    },
    "language_info": {
      "name": "python"
    }
  },
  "cells": [
    {
      "cell_type": "markdown",
      "source": [
        "**LIST PYTHON DATA STRUCTURE**\n",
        "\n",
        "---\n",
        "\n",
        "\n",
        "\n",
        "---\n",
        "\n"
      ],
      "metadata": {
        "id": "noSy6VMZDn30"
      }
    },
    {
      "cell_type": "code",
      "execution_count": 3,
      "metadata": {
        "id": "PzrybMCQDkJi"
      },
      "outputs": [],
      "source": [
        "l=[10,20,30,50,70]"
      ]
    },
    {
      "cell_type": "code",
      "source": [
        "print(l)"
      ],
      "metadata": {
        "colab": {
          "base_uri": "https://localhost:8080/"
        },
        "id": "Y4LC9YCTD51J",
        "outputId": "956cdb0e-0b76-4d26-fda6-6e8c4acaf443"
      },
      "execution_count": 4,
      "outputs": [
        {
          "output_type": "stream",
          "name": "stdout",
          "text": [
            "[10, 20, 30, 50, 70]\n"
          ]
        }
      ]
    },
    {
      "cell_type": "code",
      "source": [
        "print(l[3])"
      ],
      "metadata": {
        "colab": {
          "base_uri": "https://localhost:8080/"
        },
        "id": "iVxPpNTaD_gC",
        "outputId": "567157a0-6d10-4020-ddab-d2822034f037"
      },
      "execution_count": 5,
      "outputs": [
        {
          "output_type": "stream",
          "name": "stdout",
          "text": [
            "50\n"
          ]
        }
      ]
    },
    {
      "cell_type": "code",
      "source": [
        "print(l[-1])"
      ],
      "metadata": {
        "colab": {
          "base_uri": "https://localhost:8080/"
        },
        "id": "Uqu0pygeEEXt",
        "outputId": "46e485a1-4ae6-493b-950f-1e9174e8a741"
      },
      "execution_count": 6,
      "outputs": [
        {
          "output_type": "stream",
          "name": "stdout",
          "text": [
            "70\n"
          ]
        }
      ]
    },
    {
      "cell_type": "code",
      "source": [
        "print(l[-2])"
      ],
      "metadata": {
        "colab": {
          "base_uri": "https://localhost:8080/"
        },
        "id": "VU_XCKrZEIQz",
        "outputId": "fa9eb70f-40f3-4fa2-ae41-fc4fbd7742c0"
      },
      "execution_count": 7,
      "outputs": [
        {
          "output_type": "stream",
          "name": "stdout",
          "text": [
            "50\n"
          ]
        }
      ]
    },
    {
      "cell_type": "code",
      "source": [
        "l.append(3)"
      ],
      "metadata": {
        "id": "Qbw_TGX2ELPt"
      },
      "execution_count": 8,
      "outputs": []
    },
    {
      "cell_type": "code",
      "source": [
        "print(l)"
      ],
      "metadata": {
        "colab": {
          "base_uri": "https://localhost:8080/"
        },
        "id": "44NMQzc4EOGb",
        "outputId": "ea35c515-b43a-4255-e30e-8b4b1a34d65c"
      },
      "execution_count": 9,
      "outputs": [
        {
          "output_type": "stream",
          "name": "stdout",
          "text": [
            "[10, 20, 30, 50, 70, 3]\n"
          ]
        }
      ]
    },
    {
      "cell_type": "code",
      "source": [
        "print(20 in l)"
      ],
      "metadata": {
        "colab": {
          "base_uri": "https://localhost:8080/"
        },
        "id": "0EznwHE7EPVz",
        "outputId": "2d7c3bf1-c22a-4c36-de4b-b2f3fb8d2bc7"
      },
      "execution_count": 10,
      "outputs": [
        {
          "output_type": "stream",
          "name": "stdout",
          "text": [
            "True\n"
          ]
        }
      ]
    },
    {
      "cell_type": "code",
      "source": [
        "print(l.count(20))"
      ],
      "metadata": {
        "colab": {
          "base_uri": "https://localhost:8080/"
        },
        "id": "3vonPPTVETBm",
        "outputId": "d8cba0ba-9962-41d5-9a1f-2fed583641dc"
      },
      "execution_count": 11,
      "outputs": [
        {
          "output_type": "stream",
          "name": "stdout",
          "text": [
            "1\n"
          ]
        }
      ]
    },
    {
      "cell_type": "code",
      "source": [
        "print(l.index(30))"
      ],
      "metadata": {
        "colab": {
          "base_uri": "https://localhost:8080/"
        },
        "id": "DaJtJU3gEbHd",
        "outputId": "db25fbca-c15c-4fbb-86dd-20f3808805fb"
      },
      "execution_count": 12,
      "outputs": [
        {
          "output_type": "stream",
          "name": "stdout",
          "text": [
            "2\n"
          ]
        }
      ]
    },
    {
      "cell_type": "code",
      "source": [
        "l.insert(1,15)"
      ],
      "metadata": {
        "id": "toLuZbu5Ego6"
      },
      "execution_count": 14,
      "outputs": []
    },
    {
      "cell_type": "code",
      "source": [
        "print(l)"
      ],
      "metadata": {
        "colab": {
          "base_uri": "https://localhost:8080/"
        },
        "id": "udFP8uvCEl5a",
        "outputId": "5ede117f-03fe-4970-829a-1c9e0cae2679"
      },
      "execution_count": 15,
      "outputs": [
        {
          "output_type": "stream",
          "name": "stdout",
          "text": [
            "[10, 15, 20, 30, 50, 70, 3]\n"
          ]
        }
      ]
    },
    {
      "cell_type": "code",
      "source": [
        "a=[10,20,30,40,50,60,70,80]"
      ],
      "metadata": {
        "id": "1nXUHdmREpv9"
      },
      "execution_count": 16,
      "outputs": []
    },
    {
      "cell_type": "code",
      "source": [
        "a.remove(20)"
      ],
      "metadata": {
        "id": "SfGGjGu3Ewzu"
      },
      "execution_count": 19,
      "outputs": []
    },
    {
      "cell_type": "code",
      "source": [
        "print(a)"
      ],
      "metadata": {
        "colab": {
          "base_uri": "https://localhost:8080/"
        },
        "id": "tNzX15ZJEzgx",
        "outputId": "e234c88b-1cdc-459a-b2b9-d525e75a802c"
      },
      "execution_count": 20,
      "outputs": [
        {
          "output_type": "stream",
          "name": "stdout",
          "text": [
            "[10, 30, 40, 50, 60, 70, 80]\n"
          ]
        }
      ]
    },
    {
      "cell_type": "code",
      "source": [
        "print(l.pop())"
      ],
      "metadata": {
        "colab": {
          "base_uri": "https://localhost:8080/"
        },
        "id": "REntH3ZYE8bd",
        "outputId": "016b320a-23ee-44aa-a282-ca0a000a10c5"
      },
      "execution_count": 21,
      "outputs": [
        {
          "output_type": "stream",
          "name": "stdout",
          "text": [
            "3\n"
          ]
        }
      ]
    },
    {
      "cell_type": "code",
      "source": [
        "#Average and Mean of List"
      ],
      "metadata": {
        "id": "puvoSS8HFBtj"
      },
      "execution_count": 22,
      "outputs": []
    },
    {
      "cell_type": "code",
      "source": [
        "l=[10,20,30,40,50,60,70,80]"
      ],
      "metadata": {
        "id": "LqPMziOYFScT"
      },
      "execution_count": 23,
      "outputs": []
    },
    {
      "cell_type": "code",
      "source": [
        "sum(l)"
      ],
      "metadata": {
        "colab": {
          "base_uri": "https://localhost:8080/"
        },
        "id": "fhRvdoFQFWvG",
        "outputId": "b5efaa79-ca5b-4d90-ce8f-0da2e6893021"
      },
      "execution_count": 24,
      "outputs": [
        {
          "output_type": "execute_result",
          "data": {
            "text/plain": [
              "360"
            ]
          },
          "metadata": {},
          "execution_count": 24
        }
      ]
    },
    {
      "cell_type": "code",
      "source": [
        "min(l)"
      ],
      "metadata": {
        "colab": {
          "base_uri": "https://localhost:8080/"
        },
        "id": "ueXLmsxjFX-u",
        "outputId": "4856edaa-31c5-41b9-a6d2-1e93831fa2aa"
      },
      "execution_count": 25,
      "outputs": [
        {
          "output_type": "execute_result",
          "data": {
            "text/plain": [
              "10"
            ]
          },
          "metadata": {},
          "execution_count": 25
        }
      ]
    },
    {
      "cell_type": "code",
      "source": [
        "max(l)"
      ],
      "metadata": {
        "colab": {
          "base_uri": "https://localhost:8080/"
        },
        "id": "-6kaXj1WFbHE",
        "outputId": "a9a8c7c3-6c16-4196-b70f-374fa8de5637"
      },
      "execution_count": 26,
      "outputs": [
        {
          "output_type": "execute_result",
          "data": {
            "text/plain": [
              "80"
            ]
          },
          "metadata": {},
          "execution_count": 26
        }
      ]
    },
    {
      "cell_type": "code",
      "source": [
        "def average(l):\n",
        "  return sum(l)/len(l)\n",
        "  print(average(l))"
      ],
      "metadata": {
        "id": "AFC7EbmgFb8_"
      },
      "execution_count": 27,
      "outputs": []
    },
    {
      "cell_type": "code",
      "source": [
        "average(l)"
      ],
      "metadata": {
        "colab": {
          "base_uri": "https://localhost:8080/"
        },
        "id": "63fIBzCyFw9V",
        "outputId": "2f6b2fb3-646a-46b2-ebd0-ea7e8945ceb5"
      },
      "execution_count": 28,
      "outputs": [
        {
          "output_type": "execute_result",
          "data": {
            "text/plain": [
              "45.0"
            ]
          },
          "metadata": {},
          "execution_count": 28
        }
      ]
    },
    {
      "cell_type": "code",
      "source": [
        "#Even or Odd\n",
        "\n",
        "l = [10,41,30,15,80]"
      ],
      "metadata": {
        "id": "p7K_VZESFykY"
      },
      "execution_count": 29,
      "outputs": []
    },
    {
      "cell_type": "code",
      "source": [
        "def evenodd(l):\n",
        "  even=[]\n",
        "  odd=[]\n",
        "  for x in l :\n",
        "    if x%2==0:\n",
        "      even.append(x)\n",
        "    else:\n",
        "       odd.append(x)\n",
        "       return even, odd"
      ],
      "metadata": {
        "id": "VorgJWyTF8Jw"
      },
      "execution_count": 30,
      "outputs": []
    },
    {
      "cell_type": "code",
      "source": [
        "even,odd = evenodd(l)"
      ],
      "metadata": {
        "id": "9-ZuQC7tGpjl"
      },
      "execution_count": 37,
      "outputs": []
    },
    {
      "cell_type": "code",
      "source": [
        "print(even)\n",
        "print(odd)"
      ],
      "metadata": {
        "colab": {
          "base_uri": "https://localhost:8080/"
        },
        "id": "ag4dnCgoGxre",
        "outputId": "035c9163-3fde-4315-df60-216cc5a1b1f7"
      },
      "execution_count": 38,
      "outputs": [
        {
          "output_type": "stream",
          "name": "stdout",
          "text": [
            "[10]\n",
            "[41]\n"
          ]
        }
      ]
    },
    {
      "cell_type": "code",
      "source": [
        "#Get smaller elements "
      ],
      "metadata": {
        "id": "gbpc3Fk9HJPg"
      },
      "execution_count": 39,
      "outputs": []
    },
    {
      "cell_type": "code",
      "source": [
        "def getsmaller(l,x):\n",
        "  res=[]\n",
        "  for x in l :\n",
        "    if e<x:\n",
        "      res.append(e)\n",
        "  return res"
      ],
      "metadata": {
        "id": "x3Sp7VbAHepo"
      },
      "execution_count": 41,
      "outputs": []
    },
    {
      "cell_type": "code",
      "source": [],
      "metadata": {
        "id": "G4ekKLTZHr89"
      },
      "execution_count": 43,
      "outputs": []
    },
    {
      "cell_type": "code",
      "source": [
        "#Slicing (Tuple, List and string)\n",
        "\n",
        "l1=[10,20,30,40]\n",
        "l2=l1[:]"
      ],
      "metadata": {
        "id": "oNk-Qss5H9kw"
      },
      "execution_count": 45,
      "outputs": []
    },
    {
      "cell_type": "code",
      "source": [
        "print(l2)"
      ],
      "metadata": {
        "colab": {
          "base_uri": "https://localhost:8080/"
        },
        "id": "XYRmZdtiIQ5J",
        "outputId": "b2055276-f17c-4b02-ec9e-97bc8ed8702e"
      },
      "execution_count": 46,
      "outputs": [
        {
          "output_type": "stream",
          "name": "stdout",
          "text": [
            "[10, 20, 30, 40]\n"
          ]
        }
      ]
    },
    {
      "cell_type": "code",
      "source": [
        "t1=(10,20,30)\n",
        "t2=t1[:]"
      ],
      "metadata": {
        "id": "1mqpL489IVVS"
      },
      "execution_count": 47,
      "outputs": []
    },
    {
      "cell_type": "code",
      "source": [
        "print(t2)"
      ],
      "metadata": {
        "colab": {
          "base_uri": "https://localhost:8080/"
        },
        "id": "SFPfO7pqIbJ3",
        "outputId": "18b694d9-2efb-4a2e-b9e2-718f63ddb640"
      },
      "execution_count": 48,
      "outputs": [
        {
          "output_type": "stream",
          "name": "stdout",
          "text": [
            "(10, 20, 30)\n"
          ]
        }
      ]
    },
    {
      "cell_type": "code",
      "source": [
        "ri = \"geeks\"\n",
        "r2= ri[:]"
      ],
      "metadata": {
        "id": "FLyTmXSpIdIh"
      },
      "execution_count": 49,
      "outputs": []
    },
    {
      "cell_type": "code",
      "source": [
        "print(l1 in l2)\n",
        "print(t1 in t2)\n",
        "print(ri in r2)"
      ],
      "metadata": {
        "colab": {
          "base_uri": "https://localhost:8080/"
        },
        "id": "fIzJIDSJIj1O",
        "outputId": "e86cbf3a-8789-4f3e-ae54-23ca40080984"
      },
      "execution_count": 50,
      "outputs": [
        {
          "output_type": "stream",
          "name": "stdout",
          "text": [
            "False\n",
            "False\n",
            "True\n"
          ]
        }
      ]
    },
    {
      "cell_type": "code",
      "source": [
        "#Dictationary comprehension and inverted dictationary"
      ],
      "metadata": {
        "id": "g39-oG-qIr0U"
      },
      "execution_count": 51,
      "outputs": []
    },
    {
      "cell_type": "code",
      "source": [
        "d1= {101:'gfg' , 103 : \"practise\" , 102:'ide'}"
      ],
      "metadata": {
        "id": "J3cEF1h6I064"
      },
      "execution_count": 52,
      "outputs": []
    },
    {
      "cell_type": "code",
      "source": [
        "d2= {v:k for (k,v) in d1.items()}"
      ],
      "metadata": {
        "id": "IdH00O6gJq3b"
      },
      "execution_count": 54,
      "outputs": []
    },
    {
      "cell_type": "code",
      "source": [
        "print(d2)"
      ],
      "metadata": {
        "colab": {
          "base_uri": "https://localhost:8080/"
        },
        "id": "sdG3NHKfJxoX",
        "outputId": "dbccbca9-0771-4ef7-f30e-bb82bcb2b6b3"
      },
      "execution_count": 55,
      "outputs": [
        {
          "output_type": "stream",
          "name": "stdout",
          "text": [
            "{'gfg': 101, 'practise': 103, 'ide': 102}\n"
          ]
        }
      ]
    },
    {
      "cell_type": "code",
      "source": [],
      "metadata": {
        "id": "nscn3qaAJ1qR"
      },
      "execution_count": null,
      "outputs": []
    }
  ]
}