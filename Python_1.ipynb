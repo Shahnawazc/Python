{
  "nbformat": 4,
  "nbformat_minor": 0,
  "metadata": {
    "colab": {
      "provenance": []
    },
    "kernelspec": {
      "name": "python3",
      "display_name": "Python 3"
    },
    "language_info": {
      "name": "python"
    }
  },
  "cells": [
    {
      "cell_type": "markdown",
      "source": [
        "PYTHON BASIC MATHEMATION OPERATIONS\n"
      ],
      "metadata": {
        "id": "tEtdZQjOOZvO"
      }
    },
    {
      "cell_type": "code",
      "source": [
        "2*2"
      ],
      "metadata": {
        "colab": {
          "base_uri": "https://localhost:8080/"
        },
        "id": "trwlbtbNOdNW",
        "outputId": "85657299-7f53-4c87-ecd0-844c7b0af57e"
      },
      "execution_count": 1,
      "outputs": [
        {
          "output_type": "execute_result",
          "data": {
            "text/plain": [
              "4"
            ]
          },
          "metadata": {},
          "execution_count": 1
        }
      ]
    },
    {
      "cell_type": "code",
      "source": [
        "49**(1/2)"
      ],
      "metadata": {
        "colab": {
          "base_uri": "https://localhost:8080/"
        },
        "id": "kZI-t9R_Oggn",
        "outputId": "d3f949da-253b-41a5-ce93-a89a13ca236b"
      },
      "execution_count": 2,
      "outputs": [
        {
          "output_type": "execute_result",
          "data": {
            "text/plain": [
              "7.0"
            ]
          },
          "metadata": {},
          "execution_count": 2
        }
      ]
    },
    {
      "cell_type": "code",
      "source": [
        "2*3"
      ],
      "metadata": {
        "colab": {
          "base_uri": "https://localhost:8080/"
        },
        "id": "g1uJmbRhOkZj",
        "outputId": "5d936b49-5a44-42d7-e651-28dec41748ec"
      },
      "execution_count": 3,
      "outputs": [
        {
          "output_type": "execute_result",
          "data": {
            "text/plain": [
              "6"
            ]
          },
          "metadata": {},
          "execution_count": 3
        }
      ]
    },
    {
      "cell_type": "code",
      "source": [
        "10/3"
      ],
      "metadata": {
        "colab": {
          "base_uri": "https://localhost:8080/"
        },
        "id": "rRssf1VnOme-",
        "outputId": "ccbda549-ebba-4826-c68e-7ae388cf66fb"
      },
      "execution_count": 4,
      "outputs": [
        {
          "output_type": "execute_result",
          "data": {
            "text/plain": [
              "3.3333333333333335"
            ]
          },
          "metadata": {},
          "execution_count": 4
        }
      ]
    },
    {
      "cell_type": "code",
      "source": [
        "10//3"
      ],
      "metadata": {
        "colab": {
          "base_uri": "https://localhost:8080/"
        },
        "id": "9ivYlqYTOo5N",
        "outputId": "3ceb1b76-9332-4fe7-bdec-4cf54e65c99f"
      },
      "execution_count": 5,
      "outputs": [
        {
          "output_type": "execute_result",
          "data": {
            "text/plain": [
              "3"
            ]
          },
          "metadata": {},
          "execution_count": 5
        }
      ]
    },
    {
      "cell_type": "code",
      "source": [],
      "metadata": {
        "id": "1uE1dhICOqYo"
      },
      "execution_count": null,
      "outputs": []
    },
    {
      "cell_type": "markdown",
      "source": [
        "**STRINGS**"
      ],
      "metadata": {
        "id": "-ixIKq24OwsM"
      }
    },
    {
      "cell_type": "code",
      "source": [
        "print(\"hello world\")"
      ],
      "metadata": {
        "colab": {
          "base_uri": "https://localhost:8080/"
        },
        "id": "fEBHW9ZmO0G2",
        "outputId": "86172181-7009-4e42-f83f-fcfbcd242bbe"
      },
      "execution_count": 6,
      "outputs": [
        {
          "output_type": "stream",
          "name": "stdout",
          "text": [
            "hello world\n"
          ]
        }
      ]
    },
    {
      "cell_type": "markdown",
      "source": [
        "**CONTROL STRUCTURES**"
      ],
      "metadata": {
        "id": "FtuonYwFPLAF"
      }
    },
    {
      "cell_type": "code",
      "source": [
        "input(\"Are you an Alien ?\")"
      ],
      "metadata": {
        "colab": {
          "base_uri": "https://localhost:8080/",
          "height": 53
        },
        "id": "X8bMfeNlO_HM",
        "outputId": "f852928e-217a-44b0-a1c3-c6f9f38a3c3a"
      },
      "execution_count": 7,
      "outputs": [
        {
          "name": "stdout",
          "output_type": "stream",
          "text": [
            "Are you an Alien ?Yes\n"
          ]
        },
        {
          "output_type": "execute_result",
          "data": {
            "text/plain": [
              "'Yes'"
            ],
            "application/vnd.google.colaboratory.intrinsic+json": {
              "type": "string"
            }
          },
          "metadata": {},
          "execution_count": 7
        }
      ]
    },
    {
      "cell_type": "code",
      "source": [
        "print(\"hey there! \\n Thank you\")"
      ],
      "metadata": {
        "colab": {
          "base_uri": "https://localhost:8080/"
        },
        "id": "gogyLFHDPU_V",
        "outputId": "fb4b37d4-04b7-4b84-ab59-65a3b99d4858"
      },
      "execution_count": 9,
      "outputs": [
        {
          "output_type": "stream",
          "name": "stdout",
          "text": [
            "hey there! \n",
            " Thank you\n"
          ]
        }
      ]
    },
    {
      "cell_type": "code",
      "source": [
        "# Item Qty\n",
        "# Apples 5\n",
        "#Plums 10"
      ],
      "metadata": {
        "id": "Ak08m12XPep1"
      },
      "execution_count": 10,
      "outputs": []
    },
    {
      "cell_type": "code",
      "source": [
        "print('Item \\tQty \\nApples \\t5 \\nPlums \\t10')"
      ],
      "metadata": {
        "colab": {
          "base_uri": "https://localhost:8080/"
        },
        "id": "-r8Hvs8APuO5",
        "outputId": "a8adc5b9-c6a3-487e-bed0-2bff47afe002"
      },
      "execution_count": 12,
      "outputs": [
        {
          "output_type": "stream",
          "name": "stdout",
          "text": [
            "Item \tQty \n",
            "Apples \t5 \n",
            "Plums \t10\n"
          ]
        }
      ]
    },
    {
      "cell_type": "markdown",
      "source": [
        "**Control Structures**"
      ],
      "metadata": {
        "id": "CAwoG_8LXQmH"
      }
    },
    {
      "cell_type": "code",
      "source": [
        "a=1\n",
        "a=  a+1\n",
        "print(a)"
      ],
      "metadata": {
        "colab": {
          "base_uri": "https://localhost:8080/"
        },
        "id": "2mtRgMO1P4X8",
        "outputId": "7ea84a31-c6da-490e-8776-9c5a4d6339bf"
      },
      "execution_count": 2,
      "outputs": [
        {
          "output_type": "stream",
          "name": "stdout",
          "text": [
            "2\n"
          ]
        }
      ]
    },
    {
      "cell_type": "code",
      "source": [
        "c= 10\n",
        "c*=2\n",
        "print(c)"
      ],
      "metadata": {
        "colab": {
          "base_uri": "https://localhost:8080/"
        },
        "id": "X-fgrXe5XV_Y",
        "outputId": "32d05665-7a91-4d23-97f0-b9d3f0edac07"
      },
      "execution_count": 3,
      "outputs": [
        {
          "output_type": "stream",
          "name": "stdout",
          "text": [
            "20\n"
          ]
        }
      ]
    },
    {
      "cell_type": "code",
      "source": [
        "d=4\n",
        "d/=2"
      ],
      "metadata": {
        "id": "ERYXLn3nXchy"
      },
      "execution_count": 4,
      "outputs": []
    },
    {
      "cell_type": "code",
      "source": [
        "print(d)"
      ],
      "metadata": {
        "colab": {
          "base_uri": "https://localhost:8080/"
        },
        "id": "R4_y2wk5Xgyh",
        "outputId": "ced63c2e-0a3b-4401-b5bb-dd5ba848570f"
      },
      "execution_count": 5,
      "outputs": [
        {
          "output_type": "stream",
          "name": "stdout",
          "text": [
            "2.0\n"
          ]
        }
      ]
    },
    {
      "cell_type": "code",
      "source": [
        "z= \"thank\"\n",
        "z+=\"you\"\n",
        "print(z)"
      ],
      "metadata": {
        "colab": {
          "base_uri": "https://localhost:8080/"
        },
        "id": "4TjJjLmvXiK6",
        "outputId": "4de42604-4cee-48be-e422-c3d517fd6c34"
      },
      "execution_count": 6,
      "outputs": [
        {
          "output_type": "stream",
          "name": "stdout",
          "text": [
            "thankyou\n"
          ]
        }
      ]
    },
    {
      "cell_type": "markdown",
      "source": [
        "**Numeric Functions**"
      ],
      "metadata": {
        "id": "RTj0hzwCXp6T"
      }
    },
    {
      "cell_type": "code",
      "source": [
        "print(max(1,2,3,4,5))"
      ],
      "metadata": {
        "colab": {
          "base_uri": "https://localhost:8080/"
        },
        "id": "hwgbuzdcXnhJ",
        "outputId": "77328c12-0e70-4ff0-8850-3b5aafc61282"
      },
      "execution_count": 7,
      "outputs": [
        {
          "output_type": "stream",
          "name": "stdout",
          "text": [
            "5\n"
          ]
        }
      ]
    },
    {
      "cell_type": "code",
      "source": [
        "print(min(1,2,3,4,5))"
      ],
      "metadata": {
        "colab": {
          "base_uri": "https://localhost:8080/"
        },
        "id": "vfjaYRxVXxZC",
        "outputId": "77a55388-f777-4f4c-de96-a92fd85d3126"
      },
      "execution_count": 8,
      "outputs": [
        {
          "output_type": "stream",
          "name": "stdout",
          "text": [
            "1\n"
          ]
        }
      ]
    },
    {
      "cell_type": "code",
      "source": [
        "print(abs(-2333))"
      ],
      "metadata": {
        "colab": {
          "base_uri": "https://localhost:8080/"
        },
        "id": "V38qljR5X0C3",
        "outputId": "d06efd54-784f-448e-a3e3-6a406f942bbe"
      },
      "execution_count": 9,
      "outputs": [
        {
          "output_type": "stream",
          "name": "stdout",
          "text": [
            "2333\n"
          ]
        }
      ]
    },
    {
      "cell_type": "code",
      "source": [
        "print(pow(2,3))"
      ],
      "metadata": {
        "colab": {
          "base_uri": "https://localhost:8080/"
        },
        "id": "VWMu5NmXX2IY",
        "outputId": "78644d01-f178-45e5-892b-de163737b59e"
      },
      "execution_count": 10,
      "outputs": [
        {
          "output_type": "stream",
          "name": "stdout",
          "text": [
            "8\n"
          ]
        }
      ]
    },
    {
      "cell_type": "markdown",
      "source": [
        "**Control Structures in python**"
      ],
      "metadata": {
        "id": "qzwTaVLfX8Wz"
      }
    },
    {
      "cell_type": "code",
      "source": [
        "print( \"> , < , == , >= , <= , !=\")"
      ],
      "metadata": {
        "colab": {
          "base_uri": "https://localhost:8080/"
        },
        "id": "rO1iEXDcX4Y-",
        "outputId": "7289dcc4-13c8-460e-8035-01e4c24b2a84"
      },
      "execution_count": 14,
      "outputs": [
        {
          "output_type": "stream",
          "name": "stdout",
          "text": [
            "> , < , == , >= , <= , !=\n"
          ]
        }
      ]
    },
    {
      "cell_type": "code",
      "source": [
        "a = int(input('Enter a number:'))\n",
        "if a>=5:\n",
        "  print(\"greater than 5\")\n",
        "else:\n",
        "     print(\"none\")"
      ],
      "metadata": {
        "colab": {
          "base_uri": "https://localhost:8080/"
        },
        "id": "pyYAFrVgYIrj",
        "outputId": "f364b128-282c-4c43-a6bc-1d8cc0cc3317"
      },
      "execution_count": 16,
      "outputs": [
        {
          "output_type": "stream",
          "name": "stdout",
          "text": [
            "Enter a number:34\n",
            "greater than 5\n"
          ]
        }
      ]
    },
    {
      "cell_type": "code",
      "source": [
        "marks = int(input(\"enter your marks\"))\n",
        "if(marks>=40):\n",
        "  print(\"passed\")\n",
        "else:\n",
        "  print(\"failed\")\n",
        "  print(\"Thank you \")"
      ],
      "metadata": {
        "colab": {
          "base_uri": "https://localhost:8080/"
        },
        "id": "4uGEvGJNYjvT",
        "outputId": "f9c2b765-9640-4084-ea9f-038f020443aa"
      },
      "execution_count": 17,
      "outputs": [
        {
          "output_type": "stream",
          "name": "stdout",
          "text": [
            "enter your marks76\n",
            "passed\n"
          ]
        }
      ]
    },
    {
      "cell_type": "code",
      "source": [
        "operand_1 = int(input(\"enter operand1\"))\n",
        "operand_2 = int(input(\"Enter operand2\"))\n",
        "operator = input(\"enter the operator(+ , - , * , /\")\n",
        "\n",
        "if operator == '+':\n",
        "  print(\"operand_1 + operand2\")\n",
        "elif operator  ==   '-':\n",
        "  print(\"operand_1 - operand2\")\n",
        "  \n",
        "elif operator  ==   '*':\n",
        "  print(\"operand_1 - operand2\")\n",
        "  \n",
        "elif operator  ==   '/':\n",
        "  print(\"operand_1 - operand2\")\n",
        "  \n",
        "else:\n",
        "  print(\"none\")\n",
        "print(\"thank you\")"
      ],
      "metadata": {
        "colab": {
          "base_uri": "https://localhost:8080/"
        },
        "id": "3RYZDB0kapQM",
        "outputId": "22e53bb5-71d5-454f-8351-d2f883e8ef30"
      },
      "execution_count": 23,
      "outputs": [
        {
          "output_type": "stream",
          "name": "stdout",
          "text": [
            "enter operand156\n",
            "Enter operand258\n",
            "enter the operator(+ , - , * , //\n",
            "operand_1 - operand2\n",
            "thank you\n"
          ]
        }
      ]
    },
    {
      "cell_type": "markdown",
      "source": [
        "**Range**"
      ],
      "metadata": {
        "id": "JG0IuTUMch4U"
      }
    },
    {
      "cell_type": "code",
      "source": [
        "n = list(range(10))\n",
        "print(n)"
      ],
      "metadata": {
        "colab": {
          "base_uri": "https://localhost:8080/"
        },
        "id": "b6oX1XKqbTvO",
        "outputId": "ec06142e-be5a-4062-d04a-fa9faa42dc37"
      },
      "execution_count": 24,
      "outputs": [
        {
          "output_type": "stream",
          "name": "stdout",
          "text": [
            "[0, 1, 2, 3, 4, 5, 6, 7, 8, 9]\n"
          ]
        }
      ]
    },
    {
      "cell_type": "code",
      "source": [
        "\"string\"  \"int\" \n",
        "#Start value\n",
        "#End value\n",
        "#Stop\n"
      ],
      "metadata": {
        "colab": {
          "base_uri": "https://localhost:8080/",
          "height": 36
        },
        "id": "ENXQfy2ncodG",
        "outputId": "daba63f7-fc6a-478a-ce70-cc08d66f9cc9"
      },
      "execution_count": 26,
      "outputs": [
        {
          "output_type": "execute_result",
          "data": {
            "text/plain": [
              "'stringint'"
            ],
            "application/vnd.google.colaboratory.intrinsic+json": {
              "type": "string"
            }
          },
          "metadata": {},
          "execution_count": 26
        }
      ]
    },
    {
      "cell_type": "code",
      "source": [
        "n = list(range(2,11))\n",
        "print(n)"
      ],
      "metadata": {
        "colab": {
          "base_uri": "https://localhost:8080/"
        },
        "id": "WDaSBPROc096",
        "outputId": "9d8a3944-074c-437b-aac0-88b6a17ac497"
      },
      "execution_count": 27,
      "outputs": [
        {
          "output_type": "stream",
          "name": "stdout",
          "text": [
            "[2, 3, 4, 5, 6, 7, 8, 9, 10]\n"
          ]
        }
      ]
    },
    {
      "cell_type": "code",
      "source": [
        "n= list(range(2,11,2))\n",
        "print(n)"
      ],
      "metadata": {
        "colab": {
          "base_uri": "https://localhost:8080/"
        },
        "id": "7Ch3umggc8TP",
        "outputId": "ab46cf7b-5255-4fad-8bbc-0ed92fd38edd"
      },
      "execution_count": 28,
      "outputs": [
        {
          "output_type": "stream",
          "name": "stdout",
          "text": [
            "[2, 4, 6, 8, 10]\n"
          ]
        }
      ]
    },
    {
      "cell_type": "markdown",
      "source": [
        "**FOR loop**"
      ],
      "metadata": {
        "id": "FkaF7XW-dG2Y"
      }
    },
    {
      "cell_type": "code",
      "source": [
        "l = [\"MIKE, 10.2 , 1980\"]\n",
        "for i in l:\n",
        "     print(i)"
      ],
      "metadata": {
        "colab": {
          "base_uri": "https://localhost:8080/"
        },
        "id": "BrJSSbiYdEKn",
        "outputId": "c134a8bf-aa9c-4913-9d15-94560190f72a"
      },
      "execution_count": 34,
      "outputs": [
        {
          "output_type": "stream",
          "name": "stdout",
          "text": [
            "MIKE, 10.2 , 1980\n"
          ]
        }
      ]
    },
    {
      "cell_type": "code",
      "source": [
        "for i in ['mike' , 10.2 , 1980]:\n",
        "   print(i)"
      ],
      "metadata": {
        "colab": {
          "base_uri": "https://localhost:8080/"
        },
        "id": "KxEhEw2FdQmv",
        "outputId": "d0b604a6-6aca-4982-85f5-7d9568867385"
      },
      "execution_count": 35,
      "outputs": [
        {
          "output_type": "stream",
          "name": "stdout",
          "text": [
            "mike\n",
            "10.2\n",
            "1980\n"
          ]
        }
      ]
    },
    {
      "cell_type": "markdown",
      "source": [
        "**WHILE LOOP**"
      ],
      "metadata": {
        "id": "L7sGvk_2el1J"
      }
    },
    {
      "cell_type": "code",
      "source": [
        "counter =0\n",
        "while counter <= 10:\n",
        "  print('a')\n",
        "  counter = counter+1"
      ],
      "metadata": {
        "colab": {
          "base_uri": "https://localhost:8080/"
        },
        "id": "CTMK7T1bda7-",
        "outputId": "e26f9300-0193-4601-ee1b-e181596f2270"
      },
      "execution_count": 39,
      "outputs": [
        {
          "output_type": "stream",
          "name": "stdout",
          "text": [
            "a\n",
            "a\n",
            "a\n",
            "a\n",
            "a\n",
            "a\n",
            "a\n",
            "a\n",
            "a\n",
            "a\n",
            "a\n"
          ]
        }
      ]
    },
    {
      "cell_type": "markdown",
      "source": [
        "**FUNCTIONS**"
      ],
      "metadata": {
        "id": "CsOXCDrVfuLS"
      }
    },
    {
      "cell_type": "code",
      "source": [
        "def add (a,b):\n",
        "  print(a+b)"
      ],
      "metadata": {
        "id": "qEX1yNSxfa0I"
      },
      "execution_count": 40,
      "outputs": []
    },
    {
      "cell_type": "code",
      "source": [
        "add(2,3)"
      ],
      "metadata": {
        "colab": {
          "base_uri": "https://localhost:8080/"
        },
        "id": "wFIeOU17f5Ea",
        "outputId": "06a547c8-7acd-4243-9137-603f3a46840e"
      },
      "execution_count": 41,
      "outputs": [
        {
          "output_type": "stream",
          "name": "stdout",
          "text": [
            "5\n"
          ]
        }
      ]
    },
    {
      "cell_type": "code",
      "source": [
        "def mul(a,b):\n",
        "  c=a+b\n",
        "  print(c)"
      ],
      "metadata": {
        "id": "tUZRz6z1f6w-"
      },
      "execution_count": 42,
      "outputs": []
    },
    {
      "cell_type": "code",
      "source": [
        "mul(10,10)"
      ],
      "metadata": {
        "colab": {
          "base_uri": "https://localhost:8080/"
        },
        "id": "765fnkU-gA7L",
        "outputId": "c8c24010-628a-4143-c617-0e0549f2336a"
      },
      "execution_count": 43,
      "outputs": [
        {
          "output_type": "stream",
          "name": "stdout",
          "text": [
            "20\n"
          ]
        }
      ]
    },
    {
      "cell_type": "code",
      "source": [],
      "metadata": {
        "id": "RO3Xt878gCi2"
      },
      "execution_count": null,
      "outputs": []
    }
  ]
}